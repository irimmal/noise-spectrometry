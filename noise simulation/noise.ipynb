{
 "cells": [
  {
   "cell_type": "code",
   "execution_count": 6,
   "metadata": {},
   "outputs": [
    {
     "name": "stdout",
     "output_type": "stream",
     "text": [
      "   2.00000000      0.100000001       1.00000000       9.99999978E-03\n"
     ]
    }
   ],
   "source": [
    "from rk4_bloch import rk4mod as rb\n",
    "import numpy as np\n",
    "rb.lendg = 2.0\n",
    "rb.magin = 0.10 # 磁矩的模 \n",
    "rb.t1 = 1.00 # 弛豫的特征时间T1. 注意，传入fortran的参数必须小写\n",
    "rb.var = 0.010 # 涨落的方差\n",
    "m_t0 = np.array([0.20,0.30,0.00])\n",
    "rb.m_t0 = m_t0\n",
    "rb.constant_get()\n",
    "rb.rk4_calc(delta_t=0.0010, y0=m_t0, ndim=3, step_num=10000)"
   ]
  }
 ],
 "metadata": {
  "kernelspec": {
   "display_name": "Python 3",
   "language": "python",
   "name": "python3"
  },
  "language_info": {
   "codemirror_mode": {
    "name": "ipython",
    "version": 3
   },
   "file_extension": ".py",
   "mimetype": "text/x-python",
   "name": "python",
   "nbconvert_exporter": "python",
   "pygments_lexer": "ipython3",
   "version": "3.10.6"
  },
  "orig_nbformat": 4
 },
 "nbformat": 4,
 "nbformat_minor": 2
}
